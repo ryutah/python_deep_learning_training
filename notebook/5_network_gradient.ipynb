{
 "cells": [
  {
   "cell_type": "code",
   "execution_count": 1,
   "metadata": {
    "collapsed": true
   },
   "outputs": [],
   "source": [
    "import sys, os\n",
    "sys.path.append(os.pardir)"
   ]
  },
  {
   "cell_type": "code",
   "execution_count": 2,
   "metadata": {},
   "outputs": [],
   "source": [
    "import numpy as np\n",
    "from common.functions import softmax, cross_entropy_error\n",
    "from common.gradieng import numerical_gradient"
   ]
  },
  {
   "cell_type": "code",
   "execution_count": 3,
   "metadata": {
    "collapsed": true
   },
   "outputs": [],
   "source": [
    "class simpleNet(object):\n",
    "    def __init__(self):\n",
    "        # ガウス分布で初期化\n",
    "        self.W = np.random.randn(2, 3)\n",
    "    \n",
    "    \n",
    "    def predict(self, x):\n",
    "        \"\"\"\n",
    "        予測を行う\n",
    "        \n",
    "        @param x 入力データ\n",
    "        @return 予測結果\n",
    "        \"\"\"\n",
    "        return np.dot(x, self.W)\n",
    "    \n",
    "    \n",
    "    def loss(self, x, t):\n",
    "        \"\"\"\n",
    "        損失関数の値を求める\n",
    "        \n",
    "        @param x 入力データ\n",
    "        @param t 正解ラベル\n",
    "        \"\"\"\n",
    "        z = self.predict(x)\n",
    "        y = softmax(z)\n",
    "        loss = cross_entropy_error(y, t)\n",
    "        return loss"
   ]
  },
  {
   "cell_type": "code",
   "execution_count": 4,
   "metadata": {},
   "outputs": [
    {
     "name": "stdout",
     "output_type": "stream",
     "text": [
      "[[-0.55639107 -0.89274919  0.50631393]\n",
      " [-0.14634964 -0.23163261 -0.54747545]]\n"
     ]
    }
   ],
   "source": [
    "# 損失関数の値を求める\n",
    "net = simpleNet()\n",
    "print(net.W) # 重みパラメータ\n",
    "\n",
    "x = np.array([0.6, 0.9])\n",
    "p = net.predict(x)\n",
    "\n",
    "print(p)\n",
    "print(np.argmax(p))\n",
    "\n",
    "t = np.array([0, 0, 1]) # 正解ラベル\n",
    "print(net.loss(x, t))"
   ]
  },
  {
   "cell_type": "code",
   "execution_count": 9,
   "metadata": {},
   "outputs": [
    {
     "name": "stdout",
     "output_type": "stream",
     "text": [
      "[[ 0.19508913  0.14765626 -0.34274539]\n",
      " [ 0.2926337   0.22148439 -0.51411808]]\n"
     ]
    }
   ],
   "source": [
    "# 勾配を求める\n",
    "# 勾配を求めることで、重みをどのように変換すれば\n",
    "# 損失関数を減らすことができるかわかる\n",
    "def f(W):\n",
    "    return net.loss(x, t)\n",
    "\n",
    "dW = numerical_gradient(f, net.W)\n",
    "print(dW)\n",
    "\n",
    "# f = lambda w: net.loss(x, t)\n",
    "# dW = numerical_gradient(f, net.W)"
   ]
  },
  {
   "cell_type": "code",
   "execution_count": null,
   "metadata": {
    "collapsed": true
   },
   "outputs": [],
   "source": []
  }
 ],
 "metadata": {
  "kernelspec": {
   "display_name": "Python 3",
   "language": "python",
   "name": "python3"
  },
  "language_info": {
   "codemirror_mode": {
    "name": "ipython",
    "version": 3
   },
   "file_extension": ".py",
   "mimetype": "text/x-python",
   "name": "python",
   "nbconvert_exporter": "python",
   "pygments_lexer": "ipython3",
   "version": "3.6.0"
  }
 },
 "nbformat": 4,
 "nbformat_minor": 2
}
