{
 "cells": [
  {
   "cell_type": "code",
   "execution_count": 1,
   "metadata": {
    "collapsed": true
   },
   "outputs": [],
   "source": [
    "# ニューラルネットワーク\n",
    "# * 適応可能な重みとバイアスを持つ\n",
    "# * 重みとバイアスを訓練データに適応するように調整することを「学習」と呼ぶ\n",
    "# * ニューラルネットワークの学習は下記の4つの手順で行う\n",
    "\n",
    "# ステップ1 (ミニバッチ)\n",
    "# 訓練データの中からランダムに一部のデータを選ぶ(ミニバッチ)\n",
    "# ミニバッチの値を減らすことを目的とする\n",
    "\n",
    "# ステップ2 (勾配の算出)\n",
    "# ミニバッチの損失関数を減らすために、各重みパラメータの\n",
    "# 勾配を求める\n",
    "# 勾配は損失関数の値を最も減らす方向を示す\n",
    "\n",
    "# ステップ3 (パラメータの更新)\n",
    "# 重みパラメータを勾配方向に微小量だけ更新\n",
    "\n",
    "# ステップ4 (繰り返す)\n",
    "# ステップ1, ステップ2, ステップ3 を繰り返す\n",
    "\n",
    "# ==> 確率的勾配降下方 (stochastic gradient descent)\n",
    "# 無作為に選び出したデータに対して行う勾配降下方 (SGD)"
   ]
  },
  {
   "cell_type": "code",
   "execution_count": 2,
   "metadata": {
    "collapsed": true
   },
   "outputs": [],
   "source": [
    "import sys, os\n",
    "sys.path.append(os.pardir)"
   ]
  },
  {
   "cell_type": "code",
   "execution_count": 3,
   "metadata": {
    "collapsed": true
   },
   "outputs": [],
   "source": [
    "import numpy as np\n",
    "from two_layer_net import TwoLayerNet"
   ]
  },
  {
   "cell_type": "code",
   "execution_count": 4,
   "metadata": {},
   "outputs": [
    {
     "name": "stdout",
     "output_type": "stream",
     "text": [
      "(784, 100)\n",
      "(100,)\n",
      "(100, 10)\n",
      "(10,)\n"
     ]
    }
   ],
   "source": [
    "# 入力は 28 * 28 の784個で、出力は 0~9 のラベルに該当する配列で10個\n",
    "# 隠れ層の個数は適当\n",
    "net = TwoLayerNet(input_size=784, hidden_size=100, output_size=10)\n",
    "print(net.params[\"W1\"].shape)\n",
    "print(net.params[\"b1\"].shape)\n",
    "print(net.params[\"W2\"].shape)\n",
    "print(net.params[\"b2\"].shape)"
   ]
  },
  {
   "cell_type": "code",
   "execution_count": 5,
   "metadata": {},
   "outputs": [
    {
     "name": "stdout",
     "output_type": "stream",
     "text": [
      "[[ 0.09975769  0.09569285  0.09414434  0.10634695  0.10044565  0.09978512\n",
      "   0.10995193  0.09986102  0.09506614  0.09894832]\n",
      " [ 0.10021527  0.09554692  0.09395609  0.10621823  0.10057195  0.09995801\n",
      "   0.10983428  0.09961972  0.09542599  0.09865354]\n",
      " [ 0.10008986  0.09594958  0.09383852  0.10608965  0.10031056  0.09982403\n",
      "   0.11029844  0.09962606  0.09508858  0.09888472]\n",
      " [ 0.09999379  0.0956334   0.09410746  0.1061865   0.10010306  0.10006823\n",
      "   0.10948392  0.09987131  0.09545137  0.09910095]\n",
      " [ 0.10036845  0.09597084  0.09363798  0.10600661  0.10001059  0.10040245\n",
      "   0.10979914  0.09969463  0.09522213  0.09888718]\n",
      " [ 0.09997935  0.09615998  0.09393316  0.10596536  0.10048283  0.10003977\n",
      "   0.10988057  0.09949506  0.09499634  0.09906758]\n",
      " [ 0.10037955  0.09569347  0.09404043  0.10603377  0.10034352  0.10009323\n",
      "   0.10989416  0.09944293  0.09518215  0.09889681]\n",
      " [ 0.10024168  0.09553642  0.09390123  0.10618156  0.10022077  0.1000125\n",
      "   0.10971707  0.10006043  0.09548218  0.09864617]\n",
      " [ 0.10024445  0.09549432  0.09415017  0.10625796  0.10040557  0.09989414\n",
      "   0.10984235  0.09956391  0.0952062   0.09894092]\n",
      " [ 0.10013506  0.09606192  0.09405125  0.10585257  0.10034892  0.09981439\n",
      "   0.10998623  0.09980633  0.09511086  0.09883247]]\n"
     ]
    }
   ],
   "source": [
    "x = np.random.rand(100, 784) # ダミーの入力データ(100枚分)\n",
    "y = net.predict(x)\n",
    "print(y[:10])"
   ]
  },
  {
   "cell_type": "code",
   "execution_count": 6,
   "metadata": {},
   "outputs": [
    {
     "name": "stdout",
     "output_type": "stream",
     "text": [
      "(784, 100)\n",
      "(100,)\n",
      "(100, 10)\n",
      "(10,)\n"
     ]
    }
   ],
   "source": [
    "x = np.random.rand(100, 784) # ダミーの入力データ(100枚分)\n",
    "t = np.random.rand(100,10) # ダミーの正解ラベル(100枚分)\n",
    "grads = net.numerical_gradient(x, t) # 勾配を計算\n",
    "\n",
    "print(grads[\"W1\"].shape)\n",
    "print(grads[\"b1\"].shape)\n",
    "print(grads[\"W2\"].shape)\n",
    "print(grads[\"b2\"].shape)"
   ]
  },
  {
   "cell_type": "code",
   "execution_count": null,
   "metadata": {
    "collapsed": true
   },
   "outputs": [],
   "source": []
  }
 ],
 "metadata": {
  "kernelspec": {
   "display_name": "Python 3",
   "language": "python",
   "name": "python3"
  },
  "language_info": {
   "codemirror_mode": {
    "name": "ipython",
    "version": 3
   },
   "file_extension": ".py",
   "mimetype": "text/x-python",
   "name": "python",
   "nbconvert_exporter": "python",
   "pygments_lexer": "ipython3",
   "version": "3.6.0"
  }
 },
 "nbformat": 4,
 "nbformat_minor": 2
}
